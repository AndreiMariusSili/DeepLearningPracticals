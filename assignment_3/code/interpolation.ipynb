{
 "cells": [
  {
   "cell_type": "code",
   "execution_count": 6,
   "metadata": {},
   "outputs": [],
   "source": [
    "import torch\n",
    "import torchvision\n",
    "import argparse\n",
    "import numpy as np\n",
    "from scipy import linalg\n",
    "from matplotlib import pyplot as plt\n",
    "from a3_gan_template import Generator"
   ]
  },
  {
   "cell_type": "code",
   "execution_count": 7,
   "metadata": {},
   "outputs": [
    {
     "data": {
      "text/plain": [
       "Generator(\n",
       "  (model): Sequential(\n",
       "    (0): Linear(in_features=100, out_features=128, bias=True)\n",
       "    (1): LeakyReLU(negative_slope=0.2)\n",
       "    (2): Linear(in_features=128, out_features=256, bias=True)\n",
       "    (3): BatchNorm1d(256, eps=1e-05, momentum=0.1, affine=True, track_running_stats=True)\n",
       "    (4): LeakyReLU(negative_slope=0.2)\n",
       "    (5): Linear(in_features=256, out_features=512, bias=True)\n",
       "    (6): BatchNorm1d(512, eps=1e-05, momentum=0.1, affine=True, track_running_stats=True)\n",
       "    (7): LeakyReLU(negative_slope=0.2)\n",
       "    (8): Linear(in_features=512, out_features=1024, bias=True)\n",
       "    (9): BatchNorm1d(1024, eps=1e-05, momentum=0.1, affine=True, track_running_stats=True)\n",
       "    (10): LeakyReLU(negative_slope=0.2)\n",
       "    (11): Linear(in_features=1024, out_features=784, bias=True)\n",
       "    (12): Tanh()\n",
       "  )\n",
       ")"
      ]
     },
     "execution_count": 7,
     "metadata": {},
     "output_type": "execute_result"
    }
   ],
   "source": [
    "args = argparse.Namespace()\n",
    "args.latent_dim = 100\n",
    "generator = Generator(args)\n",
    "generator.load_state_dict(torch.load('../models/k=5/results/checkpoint.pth.tar', map_location='cpu')['generator'])\n",
    "generator.eval()"
   ]
  },
  {
   "cell_type": "code",
   "execution_count": 8,
   "metadata": {},
   "outputs": [],
   "source": [
    "normal = torch.distributions.MultivariateNormal(torch.zeros(args.latent_dim, dtype=torch.float),\n",
    "                                                    torch.eye(args.latent_dim, dtype=torch.float))"
   ]
  },
  {
   "cell_type": "code",
   "execution_count": 42,
   "metadata": {},
   "outputs": [
    {
     "data": {
      "image/png": "[encoded data removed]",
      "text/plain": [
       "<Figure size 432x288 with 1 Axes>"
      ]
     },
     "metadata": {
      "needs_background": "light"
     },
     "output_type": "display_data"
    }
   ],
   "source": [
    "with torch.no_grad():\n",
    "    z1 = normal.sample(torch.Size([1]))\n",
    "    img1 = generator(z1)\n",
    "    img1 = (img1 - img1.mean()) / img1.std()\n",
    "    plt.imshow(img1.view(28,28).detach(), cmap='gray')"
   ]
  },
  {
   "cell_type": "code",
   "execution_count": 27,
   "metadata": {},
   "outputs": [
    {
     "data": {
      "image/png": "[encoded data removed]",
      "text/plain": [
       "<Figure size 432x288 with 1 Axes>"
      ]
     },
     "metadata": {
      "needs_background": "light"
     },
     "output_type": "display_data"
    }
   ],
   "source": [
    "with torch.no_grad():\n",
    "    z2 = normal.sample(torch.Size([1]))\n",
    "    img2 = generator(z2)\n",
    "    img2 = (img2 - img2.mean()) / img2.std()\n",
    "    plt.imshow(img2.view(28,28).detach(), cmap='gray')"
   ]
  },
  {
   "cell_type": "code",
   "execution_count": 28,
   "metadata": {},
   "outputs": [],
   "source": [
    "def slerp(v1: np.ndarray, v2: np.ndarray, t: np.ndarray):\n",
    "    cos = np.inner(v1, v2) / (linalg.norm(v1) * linalg.norm(v2))\n",
    "    omega = np.arccos(cos)\n",
    "    \n",
    "    first = (np.sin((1-t) * omega) / np.sin(omega)).reshape(-1,1) * v1.reshape(1,-1)\n",
    "    second = (np.sin(t * omega) / np.sin(omega)).reshape(-1,1) * v2.reshape(1,-1)\n",
    "    \n",
    "    return first + second"
   ]
  },
  {
   "cell_type": "code",
   "execution_count": 43,
   "metadata": {},
   "outputs": [
    {
     "data": {
      "text/plain": [
       "torch.Size([7, 100])"
      ]
     },
     "execution_count": 43,
     "metadata": {},
     "output_type": "execute_result"
    }
   ],
   "source": [
    "t = np.linspace(0.1, 0.9, 7)\n",
    "z1 = z1.reshape(-1)\n",
    "z2 = z2.reshape(-1)\n",
    "interpolations = slerp(z1, z2, t)\n",
    "interpolations.shape"
   ]
  },
  {
   "cell_type": "code",
   "execution_count": 44,
   "metadata": {},
   "outputs": [],
   "source": [
    "with torch.no_grad():\n",
    "    imgs = generator(torch.tensor(interpolations, dtype=torch.float))\n",
    "    imgs = imgs.reshape(7,1, 28,28)\n",
    "imgs = torch.cat([torch.tensor(img1), imgs, torch.tensor(img2)], dim=0)\n",
    "torchvision.utils.save_image(imgs, 'interpolations/3-9.png', nrow=9)"
   ]
  }
 ],
 "metadata": {
  "kernelspec": {
   "display_name": "Python 3",
   "language": "python",
   "name": "python3"
  },
  "language_info": {
   "codemirror_mode": {
    "name": "ipython",
    "version": 3
   },
   "file_extension": ".py",
   "mimetype": "text/x-python",
   "name": "python",
   "nbconvert_exporter": "python",
   "pygments_lexer": "ipython3",
   "version": "3.7.0"
  }
 },
 "nbformat": 4,
 "nbformat_minor": 2
}
