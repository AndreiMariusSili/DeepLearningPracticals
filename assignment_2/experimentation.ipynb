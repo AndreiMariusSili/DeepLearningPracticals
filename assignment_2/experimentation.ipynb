{
 "cells": [
  {
   "cell_type": "code",
   "execution_count": 1,
   "metadata": {
    "collapsed": true
   },
   "outputs": [],
   "source": [
    "import torch"
   ]
  },
  {
   "cell_type": "code",
   "execution_count": 8,
   "metadata": {},
   "outputs": [],
   "source": [
    "a = [torch.rand(5), torch.rand(5), torch.rand(5)]"
   ]
  },
  {
   "cell_type": "code",
   "execution_count": 9,
   "metadata": {},
   "outputs": [
    {
     "data": {
      "text/plain": [
       "[tensor([0.7195, 0.0293, 0.5974, 0.1776, 0.8091]),\n",
       " tensor([0.1286, 0.0886, 0.2793, 0.6459, 0.1578]),\n",
       " tensor([0.5739, 0.3781, 0.5072, 0.9854, 0.6117])]"
      ]
     },
     "execution_count": 9,
     "metadata": {},
     "output_type": "execute_result"
    }
   ],
   "source": [
    "a"
   ]
  },
  {
   "cell_type": "code",
   "execution_count": 10,
   "metadata": {},
   "outputs": [],
   "source": [
    "a = torch.stack(a, dim=0)"
   ]
  },
  {
   "cell_type": "code",
   "execution_count": 169,
   "metadata": {},
   "outputs": [
    {
     "data": {
      "text/plain": [
       "(tensor([[[ 0.,  1.,  2.,  3.],\n",
       "          [ 4.,  5.,  6.,  7.],\n",
       "          [ 8.,  9., 10., 11.]],\n",
       " \n",
       "         [[12., 13., 14., 15.],\n",
       "          [16., 17., 18., 19.],\n",
       "          [20., 21., 22., 23.]]]), torch.Size([2, 3, 4]))"
      ]
     },
     "execution_count": 169,
     "metadata": {},
     "output_type": "execute_result"
    }
   ],
   "source": [
    "seq_dim = 2\n",
    "b_dim = 3\n",
    "n_class = 4\n",
    "y = torch.tensor(range(2*3*4), dtype=torch.float).reshape(seq_dim,b_dim,n_class)\n",
    "y, y.shape"
   ]
  },
  {
   "cell_type": "code",
   "execution_count": 170,
   "metadata": {},
   "outputs": [
    {
     "data": {
      "text/plain": [
       "(tensor([[[ 0., 12.],\n",
       "          [ 1., 13.],\n",
       "          [ 2., 14.],\n",
       "          [ 3., 15.]],\n",
       " \n",
       "         [[ 4., 16.],\n",
       "          [ 5., 17.],\n",
       "          [ 6., 18.],\n",
       "          [ 7., 19.]],\n",
       " \n",
       "         [[ 8., 20.],\n",
       "          [ 9., 21.],\n",
       "          [10., 22.],\n",
       "          [11., 23.]]]), torch.Size([3, 4, 2]))"
      ]
     },
     "execution_count": 170,
     "metadata": {},
     "output_type": "execute_result"
    }
   ],
   "source": [
    "y = y.transpose(0, 1).transpose(1,2)\n",
    "y, y.shape"
   ]
  },
  {
   "cell_type": "code",
   "execution_count": 158,
   "metadata": {},
   "outputs": [
    {
     "data": {
      "text/plain": [
       "(tensor([[[ 0., 12.],\n",
       "          [ 1., 13.],\n",
       "          [ 2., 14.],\n",
       "          [ 3., 15.]],\n",
       " \n",
       "         [[ 4., 16.],\n",
       "          [ 5., 17.],\n",
       "          [ 6., 18.],\n",
       "          [ 7., 19.]],\n",
       " \n",
       "         [[ 8., 20.],\n",
       "          [ 9., 21.],\n",
       "          [10., 22.],\n",
       "          [11., 23.]]]), torch.Size([3, 4, 2]))"
      ]
     },
     "execution_count": 158,
     "metadata": {},
     "output_type": "execute_result"
    }
   ],
   "source": [
    "y = y.transpose(1,2)\n",
    "y, y.shape"
   ]
  },
  {
   "cell_type": "code",
   "execution_count": 167,
   "metadata": {},
   "outputs": [
    {
     "data": {
      "text/plain": [
       "tensor([[2, 1, 0],\n",
       "        [2, 0, 0]])"
      ]
     },
     "execution_count": 167,
     "metadata": {},
     "output_type": "execute_result"
    }
   ],
   "source": [
    "t= torch.zeros(seq_dim, b_dim, dtype=torch.long)\n",
    "t[0,1] = 1\n",
    "t[0,0] = 2\n",
    "t[1,0] = 2\n",
    "t[1,1] = 0\n",
    "t"
   ]
  },
  {
   "cell_type": "code",
   "execution_count": 168,
   "metadata": {},
   "outputs": [
    {
     "data": {
      "text/plain": [
       "tensor([[2, 2],\n",
       "        [1, 0],\n",
       "        [0, 0]])"
      ]
     },
     "execution_count": 168,
     "metadata": {},
     "output_type": "execute_result"
    }
   ],
   "source": [
    "t = t.transpose(0, 1)\n",
    "t"
   ]
  },
  {
   "cell_type": "code",
   "execution_count": 115,
   "metadata": {},
   "outputs": [],
   "source": [
    "criterion = torch.nn.CrossEntropyLoss(reduction='none')\n",
    "avg_criterion = torch.nn.CrossEntropyLoss()"
   ]
  },
  {
   "cell_type": "code",
   "execution_count": 118,
   "metadata": {},
   "outputs": [
    {
     "data": {
      "text/plain": [
       "tensor([[0.1429, 2.1429],\n",
       "        [0.0004, 0.1429],\n",
       "        [4.1429, 4.1429]])"
      ]
     },
     "execution_count": 118,
     "metadata": {},
     "output_type": "execute_result"
    }
   ],
   "source": [
    "cr = criterion(y, t)\n",
    "cr"
   ]
  },
  {
   "cell_type": "code",
   "execution_count": 107,
   "metadata": {},
   "outputs": [
    {
     "data": {
      "text/plain": [
       "tensor([[[ -4.1429,  -4.1429],\n",
       "         [ -2.1429,  -2.1429],\n",
       "         [ -0.1429,  -0.1429]],\n",
       "\n",
       "        [[ -0.0004,  -4.1429],\n",
       "         [-10.0004,  -2.1429],\n",
       "         [ -8.0004,  -0.1429]],\n",
       "\n",
       "        [[ -4.1429,  -4.1429],\n",
       "         [ -2.1429,  -2.1429],\n",
       "         [ -0.1429,  -0.1429]]])"
      ]
     },
     "execution_count": 107,
     "metadata": {},
     "output_type": "execute_result"
    }
   ],
   "source": [
    "torch.log_softmax(y, dim=1)"
   ]
  },
  {
   "cell_type": "code",
   "execution_count": 117,
   "metadata": {},
   "outputs": [
    {
     "data": {
      "text/plain": [
       "tensor(1.7858)"
      ]
     },
     "execution_count": 117,
     "metadata": {},
     "output_type": "execute_result"
    }
   ],
   "source": [
    "avg_criterion(y,t)"
   ]
  },
  {
   "cell_type": "code",
   "execution_count": 8,
   "metadata": {},
   "outputs": [
    {
     "data": {
      "text/plain": [
       "torch.Size([4])"
      ]
     },
     "execution_count": 8,
     "metadata": {},
     "output_type": "execute_result"
    }
   ],
   "source": [
    "a = torch.tensor([1,2,3,4])\n",
    "a.shape"
   ]
  },
  {
   "cell_type": "code",
   "execution_count": 10,
   "metadata": {},
   "outputs": [
    {
     "data": {
      "text/plain": [
       "torch.Size([1])"
      ]
     },
     "execution_count": 10,
     "metadata": {},
     "output_type": "execute_result"
    }
   ],
   "source": [
    "b = torch.tensor([5])\n",
    "b.shape"
   ]
  },
  {
   "cell_type": "code",
   "execution_count": 12,
   "metadata": {},
   "outputs": [
    {
     "data": {
      "text/plain": [
       "tensor([1, 2, 3, 4, 5])"
      ]
     },
     "execution_count": 12,
     "metadata": {},
     "output_type": "execute_result"
    }
   ],
   "source": [
    "torch.cat([a,b], dim=0)"
   ]
  },
  {
   "cell_type": "code",
   "execution_count": null,
   "metadata": {},
   "outputs": [],
   "source": []
  }
 ],
 "metadata": {
  "kernelspec": {
   "display_name": "Python 2",
   "language": "python",
   "name": "python2"
  },
  "language_info": {
   "codemirror_mode": {
    "name": "ipython",
    "version": 3
   },
   "file_extension": ".py",
   "mimetype": "text/x-python",
   "name": "python",
   "nbconvert_exporter": "python",
   "pygments_lexer": "ipython3",
   "version": "3.7.0"
  }
 },
 "nbformat": 4,
 "nbformat_minor": 2
}
